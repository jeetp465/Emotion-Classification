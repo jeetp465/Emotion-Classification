{
 "cells": [
  {
   "cell_type": "code",
   "execution_count": 1,
   "metadata": {},
   "outputs": [],
   "source": [
    "import torch\n",
    "import torchvision\n",
    "from torchvision import datasets, transforms\n",
    "from torch.utils.data import Dataset, DataLoader\n",
    "from skimage import io\n",
    "import os"
   ]
  },
  {
   "cell_type": "code",
   "execution_count": 2,
   "metadata": {},
   "outputs": [
    {
     "name": "stdout",
     "output_type": "stream",
     "text": [
      "[['affection', 'love', '+'], ['cheerfullness', 'joy', '+'], ['confusion', 'confusion', '-'], ['contentment', 'joy', '+'], ['disappointment', 'sadness', '-'], ['disgust', 'anger', '-'], ['enthrallment', 'joy', '+'], ['envy', 'anger', '-'], ['exasperation', 'anger', '-'], ['gratitude', 'love', '+'], ['horror', 'fear', '-'], ['irritabilty', 'anger', '-'], ['lust', 'love', '+'], ['neglect', 'sadness', '-'], ['nervousness', 'fear', '-'], ['optimism', 'joy', '+'], ['pride', 'joy', '+'], ['rage', 'anger', '-'], ['relief', 'joy', '+'], ['sadness', 'sadness', '-'], ['shame', 'sadness', '-'], ['suffering', 'sadness', '-'], ['surprise', 'surprise', '+'], ['sympathy', 'sadness', '-'], ['zest', 'joy', '+']]\n"
     ]
    }
   ],
   "source": [
    "path = '/home/jeet/WEBEmo/category.txt'\n",
    "\n",
    "with open(path, 'r') as f:\n",
    "    content = f.readlines()\n",
    "    \n",
    "content = [elem.strip('\\n').split(',') for elem in content]\n",
    "print (content)"
   ]
  },
  {
   "cell_type": "code",
   "execution_count": 3,
   "metadata": {},
   "outputs": [
    {
     "name": "stdout",
     "output_type": "stream",
     "text": [
      "{'+': [0, 1, 3, 6, 9, 12, 15, 16, 18, 22, 24], '-': [2, 4, 5, 7, 8, 10, 11, 13, 14, 17, 19, 20, 21, 23]}\n",
      "{'love': [0, 9, 12], 'joy': [1, 3, 6, 15, 16, 18, 24], 'confusion': [2], 'sadness': [4, 13, 19, 20, 21, 23], 'anger': [5, 7, 8, 11, 17], 'fear': [10, 14], 'surprise': [22]}\n"
     ]
    }
   ],
   "source": [
    "level1 = dict()\n",
    "level2 = dict()\n",
    "\n",
    "for i, elem in enumerate(content):\n",
    "    if elem[2] not in level1.keys():\n",
    "        level1[elem[2]] = []\n",
    "    \n",
    "    level1[elem[2]].append(i)\n",
    "    \n",
    "    if elem[1] not in level2.keys():\n",
    "        level2[elem[1]] = []\n",
    "        \n",
    "    level2[elem[1]].append(i)\n",
    "    \n",
    "print (level1)\n",
    "print (level2)"
   ]
  },
  {
   "cell_type": "code",
   "execution_count": 4,
   "metadata": {},
   "outputs": [
    {
     "data": {
      "text/plain": [
       "dict_items([('+', [0, 1, 3, 6, 9, 12, 15, 16, 18, 22, 24]), ('-', [2, 4, 5, 7, 8, 10, 11, 13, 14, 17, 19, 20, 21, 23])])"
      ]
     },
     "execution_count": 4,
     "metadata": {},
     "output_type": "execute_result"
    }
   ],
   "source": [
    "level1.items()"
   ]
  },
  {
   "cell_type": "markdown",
   "metadata": {},
   "source": [
    "#### Custom Dataset Loader"
   ]
  },
  {
   "cell_type": "code",
   "execution_count": 5,
   "metadata": {},
   "outputs": [],
   "source": [
    "# Function to extract the label of the folder \n",
    "def get_key(label_dict, val):\n",
    "    for key, val_list in label_dict.items():\n",
    "        if val in val_list:\n",
    "            return key\n",
    "        \n",
    "# Function to make the dataset. Returns list of tuple (path, label) for the image\n",
    "def make_dataset(root_dir, label_dict):\n",
    "    images = []\n",
    "    for target in sorted(os.listdir(root_dir)):\n",
    "        d = os.path.join(root_dir, target)\n",
    "        \n",
    "        try :\n",
    "            int(target)\n",
    "        except:\n",
    "            continue\n",
    "        \n",
    "        label = get_key(label_dict, int(target))\n",
    "\n",
    "        for root, _, fnames in sorted(os.walk(d)):\n",
    "            for fname in sorted(fnames):\n",
    "                path = os.path.join(root, fname)\n",
    "                item = (path, label)\n",
    "                images.append(item)\n",
    "\n",
    "    return images\n",
    "\n",
    "# Helper function to load the images given the path of the image\n",
    "def pil_loader(path):\n",
    "    with open(path, 'rb') as f:\n",
    "        img = Image.open(f)\n",
    "        return img.convert('RGB')\n",
    "    \n",
    "# Attribute of the class Level1ImageDataSet    \n",
    "def find_classes(root_dir, label_dict):\n",
    "    classes = []\n",
    "    \n",
    "    for label_dir in sorted(os.listdir(root_dir)):\n",
    "        try:\n",
    "            int(label_dir)\n",
    "            classes.append(get_key(label_dict, int(label_dir)))\n",
    "        except:\n",
    "            continue\n",
    "    \n",
    "    classes = set(classes)\n",
    "    return classes"
   ]
  },
  {
   "cell_type": "code",
   "execution_count": 6,
   "metadata": {},
   "outputs": [
    {
     "name": "stdout",
     "output_type": "stream",
     "text": [
      "{'-', '+'}\n"
     ]
    }
   ],
   "source": [
    "classes = find_classes('/home/jeet/WEBEmo/train',level1)\n",
    "print (classes)"
   ]
  },
  {
   "cell_type": "code",
   "execution_count": 7,
   "metadata": {},
   "outputs": [],
   "source": [
    "data_transforms = {\n",
    "    'train': transforms.Compose([\n",
    "        transforms.RandomResizedCrop(224),\n",
    "        transforms.RandomHorizontalFlip(),\n",
    "        transforms.ToTensor(),\n",
    "        transforms.Normalize([0.485, 0.456, 0.406], [0.229, 0.224, 0.225])\n",
    "    ]),\n",
    "    'test': transforms.Compose([\n",
    "        transforms.Resize(224),\n",
    "        transforms.CenterCrop(224),\n",
    "        transforms.ToTensor(),\n",
    "        transforms.Normalize([0.485, 0.456, 0.406], [0.229, 0.224, 0.225])\n",
    "    ]),\n",
    "}"
   ]
  },
  {
   "cell_type": "code",
   "execution_count": 8,
   "metadata": {},
   "outputs": [],
   "source": [
    "class Level1ImageDataset(Dataset):\n",
    "    \n",
    "    def __init__(self, root_dir, label_dict, transform=None):\n",
    "        super(Level1ImageDataset, self).__init__()\n",
    "        \n",
    "        samples = make_dataset(root_dir, label_dict)\n",
    "        classes = find_classes(root_dir, label_dict)\n",
    "        \n",
    "        self.root_dir = root_dir\n",
    "        self.transform = transform\n",
    "        self.label_dict = label_dict\n",
    "        self.samples = samples\n",
    "        self.classes = classes\n",
    "        \n",
    "    def __len__(self):\n",
    "        return (len(self.samples))\n",
    "    \n",
    "    def __getitem__(self, index):\n",
    "        \n",
    "        path, label = self.samples[index]\n",
    "        sample = pil_loader(path)\n",
    "        \n",
    "        if self.transform is not None:\n",
    "            sample = self.transform(sample)\n",
    "        \n",
    "        return sample, label"
   ]
  },
  {
   "cell_type": "code",
   "execution_count": 9,
   "metadata": {},
   "outputs": [],
   "source": [
    "data_dir = '/home/jeet/WEBEmo/'\n",
    "\n",
    "dset_l1 = {x: Level1ImageDataset(os.path.join(data_dir, x), level1, data_transforms[x])\n",
    "         for x in ['train', 'test']}"
   ]
  },
  {
   "cell_type": "code",
   "execution_count": 10,
   "metadata": {},
   "outputs": [
    {
     "name": "stdout",
     "output_type": "stream",
     "text": [
      "<__main__.Level1ImageDataset object at 0x7f199e6fd908>\n"
     ]
    }
   ],
   "source": [
    "print (dset_l1['train'])"
   ]
  },
  {
   "cell_type": "code",
   "execution_count": 11,
   "metadata": {},
   "outputs": [
    {
     "name": "stdout",
     "output_type": "stream",
     "text": [
      "{'train': 213952, 'test': 53489}\n",
      "{'-', '+'}\n"
     ]
    }
   ],
   "source": [
    "dset_loaders = {x: torch.utils.data.DataLoader(dset_l1[x], batch_size=32, shuffle=True, num_workers=16)\n",
    "                for x in ['train', 'test']}\n",
    "\n",
    "dset_sizes = {x: len(dset_l1[x]) for x in ['train', 'test']}\n",
    "print (dset_sizes)\n",
    "\n",
    "dset_classes = dset_l1['train'].classes\n",
    "print (dset_classes)"
   ]
  }
 ],
 "metadata": {
  "kernelspec": {
   "display_name": "Python 3",
   "language": "python",
   "name": "python3"
  },
  "language_info": {
   "codemirror_mode": {
    "name": "ipython",
    "version": 3
   },
   "file_extension": ".py",
   "mimetype": "text/x-python",
   "name": "python",
   "nbconvert_exporter": "python",
   "pygments_lexer": "ipython3",
   "version": "3.6.5"
  }
 },
 "nbformat": 4,
 "nbformat_minor": 2
}
